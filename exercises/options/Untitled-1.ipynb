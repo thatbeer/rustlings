{
 "cells": [
  {
   "cell_type": "code",
   "execution_count": 4,
   "metadata": {},
   "outputs": [],
   "source": [
    "people = [3,5,3,4]\n",
    "limit = 5"
   ]
  },
  {
   "cell_type": "code",
   "execution_count": 5,
   "metadata": {},
   "outputs": [],
   "source": [
    "def announce(func):\n",
    "    def wrapper(*args, **kwargs):\n",
    "        print(\"Sorting operation is being executed...\")\n",
    "        return func(*args, **kwargs)\n",
    "    return wrapper"
   ]
  },
  {
   "cell_type": "code",
   "execution_count": 6,
   "metadata": {},
   "outputs": [],
   "source": [
    "def announce2(message):\n",
    "    def decorator(func):\n",
    "        def wrapper(*args, **kwargs):\n",
    "            print(message)\n",
    "            return func(*args, **kwargs)\n",
    "        return wrapper\n",
    "    return decorator"
   ]
  },
  {
   "cell_type": "code",
   "execution_count": 7,
   "metadata": {},
   "outputs": [],
   "source": [
    "@announce2(\"sorting operation\")\n",
    "def sorter(list):\n",
    "    list.sort()\n",
    "    return list\n"
   ]
  },
  {
   "cell_type": "code",
   "execution_count": 8,
   "metadata": {},
   "outputs": [
    {
     "name": "stdout",
     "output_type": "stream",
     "text": [
      "sorting operation\n"
     ]
    },
    {
     "data": {
      "text/plain": [
       "[3, 3, 4, 5]"
      ]
     },
     "execution_count": 8,
     "metadata": {},
     "output_type": "execute_result"
    }
   ],
   "source": [
    "sorter(people)"
   ]
  },
  {
   "cell_type": "code",
   "execution_count": 9,
   "metadata": {},
   "outputs": [
    {
     "name": "stdout",
     "output_type": "stream",
     "text": [
      "sum: 15\n",
      "boat in need: 3\n"
     ]
    }
   ],
   "source": [
    "import math\n",
    "s = sum(people)/ limit\n",
    "print(\"sum:\",sum(people))\n",
    "print(\"boat in need:\",math.ceil(s))"
   ]
  },
  {
   "cell_type": "code",
   "execution_count": 10,
   "metadata": {},
   "outputs": [],
   "source": [
    "from typing import List \n",
    "class Solution:\n",
    "    def __init__(self):\n",
    "        self.name = \"Boat2Save\"\n",
    "    def Boat2Save(self,people: List[int],limit: int) -> int:\n",
    "        people.sort()\n",
    "        left , right = 0, len(people)-1\n",
    "        boat = 0\n",
    "        while left <= right:\n",
    "            if people[left] + people[right] <= limit:\n",
    "                left += 1\n",
    "                right -=1\n",
    "            else:\n",
    "                right -= 1\n",
    "            boat += 1\n",
    "        return boat\n",
    "    def __repr__(self) -> str:\n",
    "        return f'This is {self.__class__.__name__}'\n",
    "\n",
    "            "
   ]
  },
  {
   "cell_type": "code",
   "execution_count": 11,
   "metadata": {},
   "outputs": [],
   "source": [
    "mod = Solution()"
   ]
  },
  {
   "cell_type": "code",
   "execution_count": 12,
   "metadata": {},
   "outputs": [
    {
     "data": {
      "text/plain": [
       "4"
      ]
     },
     "execution_count": 12,
     "metadata": {},
     "output_type": "execute_result"
    }
   ],
   "source": [
    "mod.Boat2Save(people,limit)"
   ]
  },
  {
   "cell_type": "code",
   "execution_count": null,
   "metadata": {},
   "outputs": [],
   "source": []
  }
 ],
 "metadata": {
  "kernelspec": {
   "display_name": "Python 3",
   "language": "python",
   "name": "python3"
  },
  "language_info": {
   "codemirror_mode": {
    "name": "ipython",
    "version": 3
   },
   "file_extension": ".py",
   "mimetype": "text/x-python",
   "name": "python",
   "nbconvert_exporter": "python",
   "pygments_lexer": "ipython3",
   "version": "3.10.10"
  },
  "orig_nbformat": 4,
  "vscode": {
   "interpreter": {
    "hash": "cef8dc703fb66fb074030bb9c517d5e760d3ac9399ff6d8699e8bd40fdae073f"
   }
  }
 },
 "nbformat": 4,
 "nbformat_minor": 2
}
